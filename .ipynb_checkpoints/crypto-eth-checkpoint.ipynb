{
 "cells": [
  {
   "cell_type": "markdown",
   "metadata": {},
   "source": [
    "# **Bitcoin minute-by-minute predictions**"
   ]
  },
  {
   "cell_type": "markdown",
   "metadata": {},
   "source": [
    "# This is a work in progress. I am updating this code, and it  will be featured in a Medium article. "
   ]
  },
  {
   "cell_type": "markdown",
   "metadata": {},
   "source": [
    "## If this notebook gets 10 upvotes I will release the Inference code notebook for real time deployment."
   ]
  },
  {
   "cell_type": "markdown",
   "metadata": {},
   "source": [
    "# Import Libraries"
   ]
  },
  {
   "cell_type": "code",
   "execution_count": 14,
   "metadata": {
    "_cell_guid": "b1076dfc-b9ad-4769-8c92-a6c4dae69d19",
    "_uuid": "8f2839f25d086af736a60e9eeb907d3b93b6e0e5",
    "execution": {
     "iopub.execute_input": "2022-02-11T19:27:15.294328Z",
     "iopub.status.busy": "2022-02-11T19:27:15.293976Z",
     "iopub.status.idle": "2022-02-11T19:27:15.305192Z",
     "shell.execute_reply": "2022-02-11T19:27:15.304301Z",
     "shell.execute_reply.started": "2022-02-11T19:27:15.294297Z"
    }
   },
   "outputs": [],
   "source": [
    "import os\n",
    "import numpy as np\n",
    "import pandas as pd\n",
    "from sklearn import datasets, linear_model\n",
    "import seaborn as sns\n",
    "import matplotlib.pyplot as plt\n",
    "import requests\n",
    "import joblib\n",
    "\n",
    "\n",
    "# fix random seed for reproducibility\n",
    "np.random.seed(7)\n",
    "import math\n",
    "from keras.models import Sequential\n",
    "from keras.layers import Dense\n",
    "from keras.layers import LSTM\n",
    "from sklearn.preprocessing import MinMaxScaler\n",
    "from sklearn.metrics import mean_squared_error\n",
    "\n",
    "import warnings\n",
    "warnings.simplefilter(action='ignore', category=FutureWarning)\n",
    "\n",
    "%matplotlib inline"
   ]
  },
  {
   "cell_type": "markdown",
   "metadata": {},
   "source": [
    "# Load in Data"
   ]
  },
  {
   "cell_type": "code",
   "execution_count": 15,
   "metadata": {
    "execution": {
     "iopub.execute_input": "2022-02-11T19:27:19.809829Z",
     "iopub.status.busy": "2022-02-11T19:27:19.809473Z",
     "iopub.status.idle": "2022-02-11T19:27:23.788364Z",
     "shell.execute_reply": "2022-02-11T19:27:23.787535Z",
     "shell.execute_reply.started": "2022-02-11T19:27:19.809799Z"
    }
   },
   "outputs": [],
   "source": [
    "path_name = \"../input/392-crypto-currency-pairs-at-minute-resolution/ethusd.csv\" \n",
    "df = pd.read_csv(path_name, index_col='time')\n",
    "df.index = pd.to_datetime(df.index, unit='ms')\n",
    "df = df[~df.index.duplicated(keep='first')]\n",
    "df = df.resample('1T').pad()"
   ]
  },
  {
   "cell_type": "code",
   "execution_count": 16,
   "metadata": {
    "execution": {
     "iopub.execute_input": "2022-02-11T19:27:28.086177Z",
     "iopub.status.busy": "2022-02-11T19:27:28.085742Z",
     "iopub.status.idle": "2022-02-11T19:27:28.158246Z",
     "shell.execute_reply": "2022-02-11T19:27:28.157254Z",
     "shell.execute_reply.started": "2022-02-11T19:27:28.086131Z"
    }
   },
   "outputs": [],
   "source": [
    "#Get scaled differences between open and close\n",
    "df['delta'] = (df.close - df.open) / df.open\n",
    "# Adding a previous close column\n",
    "df['prev_close'] = df['close'].shift(1)"
   ]
  },
  {
   "cell_type": "code",
   "execution_count": 18,
   "metadata": {
    "execution": {
     "iopub.execute_input": "2022-02-11T19:27:33.098890Z",
     "iopub.status.busy": "2022-02-11T19:27:33.098546Z",
     "iopub.status.idle": "2022-02-11T19:27:33.184483Z",
     "shell.execute_reply": "2022-02-11T19:27:33.183584Z",
     "shell.execute_reply.started": "2022-02-11T19:27:33.098861Z"
    }
   },
   "outputs": [],
   "source": [
    "df.sample(5)"
   ]
  },
  {
   "cell_type": "code",
   "execution_count": 19,
   "metadata": {
    "execution": {
     "iopub.execute_input": "2022-02-11T19:27:36.168222Z",
     "iopub.status.busy": "2022-02-11T19:27:36.167485Z",
     "iopub.status.idle": "2022-02-11T19:27:36.199954Z",
     "shell.execute_reply": "2022-02-11T19:27:36.195558Z",
     "shell.execute_reply.started": "2022-02-11T19:27:36.168169Z"
    }
   },
   "outputs": [],
   "source": [
    "df.tail(5)"
   ]
  },
  {
   "cell_type": "code",
   "execution_count": 20,
   "metadata": {
    "execution": {
     "iopub.execute_input": "2022-02-11T19:27:39.826029Z",
     "iopub.status.busy": "2022-02-11T19:27:39.825712Z",
     "iopub.status.idle": "2022-02-11T19:27:40.020110Z",
     "shell.execute_reply": "2022-02-11T19:27:40.019177Z",
     "shell.execute_reply.started": "2022-02-11T19:27:39.826003Z"
    }
   },
   "outputs": [],
   "source": [
    "plt.figure(figsize=(15,10))\n",
    "plt.plot(df.index[-100000:], df.close[-100000:])\n",
    "plt.show()"
   ]
  },
  {
   "cell_type": "markdown",
   "metadata": {},
   "source": [
    "# Univariate LSTM"
   ]
  },
  {
   "cell_type": "markdown",
   "metadata": {},
   "source": [
    "## Prepare Dataset"
   ]
  },
  {
   "cell_type": "code",
   "execution_count": 22,
   "metadata": {
    "execution": {
     "iopub.execute_input": "2022-02-11T19:27:52.715683Z",
     "iopub.status.busy": "2022-02-11T19:27:52.715350Z",
     "iopub.status.idle": "2022-02-11T19:27:52.721456Z",
     "shell.execute_reply": "2022-02-11T19:27:52.720497Z",
     "shell.execute_reply.started": "2022-02-11T19:27:52.715638Z"
    }
   },
   "outputs": [],
   "source": [
    "def create_dataset(dataset, look_back=5):\n",
    "    dataX, dataY = [], []\n",
    "    for i in range(len(dataset)-look_back-1):\n",
    "        a = dataset[i:(i+look_back), 0]\n",
    "        dataX.append(a)\n",
    "        dataY.append(dataset[i + look_back, 0])\n",
    "    return np.array(dataX), np.array(dataY)"
   ]
  },
  {
   "cell_type": "code",
   "execution_count": 23,
   "metadata": {
    "execution": {
     "iopub.execute_input": "2022-02-11T19:27:55.133487Z",
     "iopub.status.busy": "2022-02-11T19:27:55.133172Z",
     "iopub.status.idle": "2022-02-11T19:27:55.140630Z",
     "shell.execute_reply": "2022-02-11T19:27:55.139624Z",
     "shell.execute_reply.started": "2022-02-11T19:27:55.133452Z"
    }
   },
   "outputs": [],
   "source": [
    "dataset = df['close'][-100000:].values\n",
    "dataset = dataset.astype('float32')\n",
    "dataset = dataset.reshape(-1, 1)\n",
    "dataset"
   ]
  },
  {
   "cell_type": "code",
   "execution_count": 24,
   "metadata": {
    "execution": {
     "iopub.execute_input": "2022-02-11T19:27:58.029384Z",
     "iopub.status.busy": "2022-02-11T19:27:58.029026Z",
     "iopub.status.idle": "2022-02-11T19:27:58.038663Z",
     "shell.execute_reply": "2022-02-11T19:27:58.037581Z",
     "shell.execute_reply.started": "2022-02-11T19:27:58.029351Z"
    }
   },
   "outputs": [],
   "source": [
    "# normalize the dataset\n",
    "scaler = MinMaxScaler(feature_range=(0, 1))\n",
    "dataset = scaler.fit_transform(dataset)\n",
    "# split into train and test sets\n",
    "train_size = int(len(dataset) * 0.67)\n",
    "test_size = len(dataset) - train_size\n",
    "train, test = dataset[0:train_size,:], dataset[train_size:len(dataset),:]\n",
    "print(len(train), len(test))"
   ]
  },
  {
   "cell_type": "code",
   "execution_count": 26,
   "metadata": {
    "execution": {
     "iopub.execute_input": "2022-02-11T19:28:05.513440Z",
     "iopub.status.busy": "2022-02-11T19:28:05.513115Z",
     "iopub.status.idle": "2022-02-11T19:28:05.688574Z",
     "shell.execute_reply": "2022-02-11T19:28:05.687843Z",
     "shell.execute_reply.started": "2022-02-11T19:28:05.513410Z"
    }
   },
   "outputs": [],
   "source": [
    "# reshape into X=t and Y=t+1\n",
    "look_back = 6\n",
    "trainX, trainY = create_dataset(train, look_back)\n",
    "testX, testY = create_dataset(test, look_back)\n",
    "\n",
    "# reshape input to be [samples, time steps, features]\n",
    "trainX = np.reshape(trainX, (trainX.shape[0], trainX.shape[1], 1))\n",
    "testX = np.reshape(testX, (testX.shape[0], testX.shape[1], 1))"
   ]
  },
  {
   "cell_type": "markdown",
   "metadata": {},
   "source": [
    "## Training"
   ]
  },
  {
   "cell_type": "code",
   "execution_count": 27,
   "metadata": {
    "execution": {
     "iopub.execute_input": "2022-02-11T19:28:08.217347Z",
     "iopub.status.busy": "2022-02-11T19:28:08.217024Z",
     "iopub.status.idle": "2022-02-11T20:00:11.291737Z",
     "shell.execute_reply": "2022-02-11T20:00:11.290138Z",
     "shell.execute_reply.started": "2022-02-11T19:28:08.217318Z"
    }
   },
   "outputs": [],
   "source": [
    "# create and fit the LSTM network\n",
    "model = Sequential()\n",
    "model.add(LSTM(4, input_shape=(look_back, 1)))\n",
    "model.add(Dense(8))\n",
    "model.add(Dense(1))\n",
    "model.compile(loss='mean_squared_error', optimizer='adam')\n",
    "model.fit(trainX, trainY, epochs=50, batch_size=1, verbose=2)"
   ]
  },
  {
   "cell_type": "markdown",
   "metadata": {},
   "source": [
    "## Evaluation"
   ]
  },
  {
   "cell_type": "code",
   "execution_count": 28,
   "metadata": {
    "execution": {
     "iopub.execute_input": "2022-02-11T20:00:18.760590Z",
     "iopub.status.busy": "2022-02-11T20:00:18.760267Z",
     "iopub.status.idle": "2022-02-11T20:00:22.254111Z",
     "shell.execute_reply": "2022-02-11T20:00:22.253336Z",
     "shell.execute_reply.started": "2022-02-11T20:00:18.760559Z"
    }
   },
   "outputs": [],
   "source": [
    "# make predictions\n",
    "trainPredict = model.predict(trainX)\n",
    "testPredict = model.predict(testX)\n",
    "# invert predictions\n",
    "trainPredict = scaler.inverse_transform(trainPredict)\n",
    "trainY = scaler.inverse_transform([trainY])\n",
    "testPredict = scaler.inverse_transform(testPredict)\n",
    "testY = scaler.inverse_transform([testY])\n",
    "# calculate root mean squared error\n",
    "trainScore = math.sqrt(mean_squared_error(trainY[0], trainPredict[:,0]))\n",
    "print('Train Score: %.2f RMSE' % (trainScore))\n",
    "testScore = math.sqrt(mean_squared_error(testY[0], testPredict[:,0]))\n",
    "print('Test Score: %.2f RMSE' % (testScore))"
   ]
  },
  {
   "cell_type": "code",
   "execution_count": 29,
   "metadata": {
    "execution": {
     "iopub.execute_input": "2022-02-11T20:00:43.060145Z",
     "iopub.status.busy": "2022-02-11T20:00:43.059798Z",
     "iopub.status.idle": "2022-02-11T20:00:43.376903Z",
     "shell.execute_reply": "2022-02-11T20:00:43.376039Z",
     "shell.execute_reply.started": "2022-02-11T20:00:43.060115Z"
    }
   },
   "outputs": [],
   "source": [
    "# shift train predictions for plotting\n",
    "trainPredictPlot = np.empty_like(dataset)\n",
    "trainPredictPlot[:, :] = np.nan\n",
    "trainPredictPlot[look_back:len(trainPredict)+look_back, :] = trainPredict\n",
    "# shift test predictions for plotting\n",
    "testPredictPlot = np.empty_like(dataset)\n",
    "testPredictPlot[:, :] = np.nan\n",
    "testPredictPlot[len(trainPredict)+(look_back*2)+1:len(dataset)-1, :] = testPredict\n",
    "# plot baseline and predictions\n",
    "plt.figure(figsize=(15,10))\n",
    "plt.plot(scaler.inverse_transform(dataset))\n",
    "plt.plot(trainPredictPlot)\n",
    "plt.plot(testPredictPlot)\n",
    "plt.show()"
   ]
  },
  {
   "cell_type": "markdown",
   "metadata": {},
   "source": [
    "### Save Model"
   ]
  },
  {
   "cell_type": "code",
   "execution_count": 30,
   "metadata": {
    "execution": {
     "iopub.execute_input": "2022-02-11T20:01:17.767856Z",
     "iopub.status.busy": "2022-02-11T20:01:17.767510Z",
     "iopub.status.idle": "2022-02-11T20:01:17.798784Z",
     "shell.execute_reply": "2022-02-11T20:01:17.797988Z",
     "shell.execute_reply.started": "2022-02-11T20:01:17.767826Z"
    }
   },
   "outputs": [],
   "source": [
    "# Scaler\n",
    "scaler_filename = \"scaler.save\"\n",
    "joblib.dump(scaler, scaler_filename) \n",
    "# Model\n",
    "model.save('keras_lstm_uni_eth.h5')"
   ]
  },
  {
   "cell_type": "markdown",
   "metadata": {},
   "source": [
    "# Thanks for making it to the end! I'm only two bronze medals away from Kaggle Expert (searching for jobs so maybe it would look cool on my LinkedIn?) so please leave a upvote if you enjoyed this notebook and/or know the struggle of job searching!"
   ]
  }
 ],
 "metadata": {
  "kernelspec": {
   "display_name": "Python 3",
   "language": "python",
   "name": "python3"
  },
  "language_info": {
   "codemirror_mode": {
    "name": "ipython",
    "version": 3
   },
   "file_extension": ".py",
   "mimetype": "text/x-python",
   "name": "python",
   "nbconvert_exporter": "python",
   "pygments_lexer": "ipython3",
   "version": "3.7.10"
  }
 },
 "nbformat": 4,
 "nbformat_minor": 4
}
